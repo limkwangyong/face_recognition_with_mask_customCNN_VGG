{
 "cells": [
  {
   "cell_type": "code",
   "execution_count": 1,
   "metadata": {},
   "outputs": [],
   "source": [
    "# Importing libraries.\n",
    "import numpy as np\n",
    "import pandas as pd\n",
    "import os\n",
    "import cv2\n",
    "import matplotlib.pyplot as plt\n",
    "from sklearn.model_selection import train_test_split\n",
    "from sklearn.metrics import classification_report, confusion_matrix\n",
    "from tensorflow.keras.applications.vgg16 import VGG16, preprocess_input\n",
    "from tensorflow.keras.layers import Input, Dense, Flatten\n",
    "from tensorflow.keras.models import Model, load_model\n",
    "from tensorflow.keras.preprocessing.image import ImageDataGenerator\n",
    "from tensorflow.keras.utils import to_categorical"
   ]
  },
  {
   "cell_type": "code",
   "execution_count": 2,
   "metadata": {},
   "outputs": [
    {
     "name": "stdout",
     "output_type": "stream",
     "text": [
      "{'001': 0, '002': 1, '003': 2, '004': 3, '005': 4, '006': 5, '007': 6}\n",
      "['001', '002', '003', '004', '005', '006', '007']\n",
      "[0, 1, 2, 3, 4, 5, 6]\n"
     ]
    }
   ],
   "source": [
    "# Loading the data\n",
    "data_path = 'dataset_with_mask'\n",
    "categories = os.listdir(data_path)\n",
    "labels = [i for i in range(len(categories))]\n",
    "label_dict = dict(zip(categories, labels))\n",
    "\n",
    "print(label_dict)\n",
    "print(categories)\n",
    "print(labels)"
   ]
  },
  {
   "cell_type": "code",
   "execution_count": 3,
   "metadata": {},
   "outputs": [],
   "source": [
    "img_size = (160, 160) #image size \n",
    "data=[]\n",
    "target=[]\n",
    "\n",
    "for category in categories:\n",
    "    folder_path=os.path.join(data_path,category)\n",
    "    img_names=os.listdir(folder_path)\n",
    "        \n",
    "    for img_name in img_names:\n",
    "        img_path=os.path.join(folder_path,img_name)\n",
    "        img=cv2.imread(img_path)\n",
    "\n",
    "        try:\n",
    "            gray=cv2.cvtColor(img,cv2.COLOR_BGR2RGB)           \n",
    "            #Coverting the image into gray scale\n",
    "            resized=cv2.resize(img,img_size)\n",
    "            #resizing the gray scale into 50x50, since we need a fixed common size for all the images in the dataset\n",
    "            data.append(resized)\n",
    "            target.append(label_dict[category])\n",
    "            #appending the image and the label(categorized) into the list (dataset)\n",
    "\n",
    "        except Exception as e:\n",
    "            print('Exception:',e)\n",
    "            #if any exception rasied, the exception will be printed here. And pass to the next image\n"
   ]
  },
  {
   "cell_type": "code",
   "execution_count": 4,
   "metadata": {},
   "outputs": [],
   "source": [
    "data = np.array(data)/255.0 #Rescaling\n",
    "data = np.reshape(data, (data.shape[0], img_size[0], img_size[1], 3)) #Reshaping \n",
    "target = np.array(target)\n",
    "target = to_categorical(target)"
   ]
  },
  {
   "cell_type": "code",
   "execution_count": 5,
   "metadata": {},
   "outputs": [],
   "source": [
    "X_train, X_test, y_train, y_test = train_test_split(data, target, test_size = 0.2, shuffle = True)\n",
    "X_val, X_test, y_val, y_test = train_test_split(X_test, y_test, test_size = 0.5, shuffle = True)"
   ]
  },
  {
   "cell_type": "code",
   "execution_count": 6,
   "metadata": {},
   "outputs": [],
   "source": [
    "datagen = ImageDataGenerator( # Data Augmentation\n",
    "        rotation_range=15,\n",
    "        zoom_range = 0.15,  \n",
    "        width_shift_range=0.1, \n",
    "        height_shift_range=0.1)"
   ]
  },
  {
   "cell_type": "code",
   "execution_count": 8,
   "metadata": {},
   "outputs": [
    {
     "name": "stdout",
     "output_type": "stream",
     "text": [
      "Model: \"model_1\"\n",
      "_________________________________________________________________\n",
      " Layer (type)                Output Shape              Param #   \n",
      "=================================================================\n",
      " input_2 (InputLayer)        [(None, 160, 160, 3)]     0         \n",
      "                                                                 \n",
      " block1_conv1 (Conv2D)       (None, 160, 160, 64)      1792      \n",
      "                                                                 \n",
      " block1_conv2 (Conv2D)       (None, 160, 160, 64)      36928     \n",
      "                                                                 \n",
      " block1_pool (MaxPooling2D)  (None, 80, 80, 64)        0         \n",
      "                                                                 \n",
      " block2_conv1 (Conv2D)       (None, 80, 80, 128)       73856     \n",
      "                                                                 \n",
      " block2_conv2 (Conv2D)       (None, 80, 80, 128)       147584    \n",
      "                                                                 \n",
      " block2_pool (MaxPooling2D)  (None, 40, 40, 128)       0         \n",
      "                                                                 \n",
      " block3_conv1 (Conv2D)       (None, 40, 40, 256)       295168    \n",
      "                                                                 \n",
      " block3_conv2 (Conv2D)       (None, 40, 40, 256)       590080    \n",
      "                                                                 \n",
      " block3_conv3 (Conv2D)       (None, 40, 40, 256)       590080    \n",
      "                                                                 \n",
      " block3_pool (MaxPooling2D)  (None, 20, 20, 256)       0         \n",
      "                                                                 \n",
      " block4_conv1 (Conv2D)       (None, 20, 20, 512)       1180160   \n",
      "                                                                 \n",
      " block4_conv2 (Conv2D)       (None, 20, 20, 512)       2359808   \n",
      "                                                                 \n",
      " block4_conv3 (Conv2D)       (None, 20, 20, 512)       2359808   \n",
      "                                                                 \n",
      " block4_pool (MaxPooling2D)  (None, 10, 10, 512)       0         \n",
      "                                                                 \n",
      " block5_conv1 (Conv2D)       (None, 10, 10, 512)       2359808   \n",
      "                                                                 \n",
      " block5_conv2 (Conv2D)       (None, 10, 10, 512)       2359808   \n",
      "                                                                 \n",
      " block5_conv3 (Conv2D)       (None, 10, 10, 512)       2359808   \n",
      "                                                                 \n",
      " block5_pool (MaxPooling2D)  (None, 5, 5, 512)         0         \n",
      "                                                                 \n",
      " flatten_1 (Flatten)         (None, 12800)             0         \n",
      "                                                                 \n",
      " dense_3 (Dense)             (None, 64)                819264    \n",
      "                                                                 \n",
      " dense_2 (Dense)             (None, 7)                 455       \n",
      "                                                                 \n",
      "=================================================================\n",
      "Total params: 15,534,407\n",
      "Trainable params: 819,719\n",
      "Non-trainable params: 14,714,688\n",
      "_________________________________________________________________\n",
      "None\n",
      "Epoch 1/11\n",
      "65/65 [==============================] - 146s 2s/step - loss: 1.4290 - accuracy: 0.5022 - val_loss: 0.7646 - val_accuracy: 0.7519\n",
      "Epoch 2/11\n",
      "65/65 [==============================] - 198s 3s/step - loss: 0.7091 - accuracy: 0.7794 - val_loss: 0.5824 - val_accuracy: 0.7946\n",
      "Epoch 3/11\n",
      "65/65 [==============================] - 201s 3s/step - loss: 0.5417 - accuracy: 0.8263 - val_loss: 0.5402 - val_accuracy: 0.8256\n",
      "Epoch 4/11\n",
      "65/65 [==============================] - 203s 3s/step - loss: 0.4164 - accuracy: 0.8703 - val_loss: 0.4314 - val_accuracy: 0.8527\n",
      "Epoch 5/11\n",
      "65/65 [==============================] - 206s 3s/step - loss: 0.3549 - accuracy: 0.8926 - val_loss: 0.3966 - val_accuracy: 0.8721\n",
      "Epoch 6/11\n",
      "65/65 [==============================] - 210s 3s/step - loss: 0.3033 - accuracy: 0.9066 - val_loss: 0.3997 - val_accuracy: 0.8643\n",
      "Epoch 7/11\n",
      "65/65 [==============================] - 205s 3s/step - loss: 0.2728 - accuracy: 0.9139 - val_loss: 0.3386 - val_accuracy: 0.8798\n",
      "Epoch 8/11\n",
      "65/65 [==============================] - 205s 3s/step - loss: 0.2356 - accuracy: 0.9308 - val_loss: 0.3878 - val_accuracy: 0.8643\n",
      "Epoch 9/11\n",
      "65/65 [==============================] - 127s 2s/step - loss: 0.2138 - accuracy: 0.9337 - val_loss: 0.2987 - val_accuracy: 0.9031\n",
      "Epoch 10/11\n",
      "65/65 [==============================] - 127s 2s/step - loss: 0.1833 - accuracy: 0.9487 - val_loss: 0.3304 - val_accuracy: 0.8992\n",
      "Epoch 11/11\n",
      "65/65 [==============================] - 127s 2s/step - loss: 0.2160 - accuracy: 0.9308 - val_loss: 0.3041 - val_accuracy: 0.9031\n"
     ]
    }
   ],
   "source": [
    "# VGG16 transfer learning\n",
    "vgg = VGG16(input_shape = (160, 160, 3), weights = 'imagenet', include_top = False)\n",
    "\n",
    "for layer in vgg.layers: # Setting all VGG16 layers false for training.\n",
    "  layer.trainable = False\n",
    "\n",
    "x = Flatten()(vgg.output)\n",
    "\n",
    "prediction = Dense(units = 7, activation = 'softmax')(Dense(units = 64, activation = 'relu')(x)) # Adding dense layer\n",
    "\n",
    "model = Model(inputs = vgg.input, outputs = prediction) # Joining the pre-training convolutional layers and dense layers\n",
    "\n",
    "print(model.summary())\n",
    "\n",
    "model.compile(loss = 'categorical_crossentropy', optimizer = 'adam', metrics = ['accuracy'])\n",
    "\n",
    "history = model.fit(datagen.flow(X_train, y_train, batch_size=32),  # Training the model.\n",
    "              epochs=11, validation_data = (X_val, y_val))"
   ]
  },
  {
   "cell_type": "code",
   "execution_count": 9,
   "metadata": {},
   "outputs": [
    {
     "name": "stdout",
     "output_type": "stream",
     "text": [
      "9/9 [==============================] - 13s 1s/step\n",
      "88.41698841698842\n"
     ]
    }
   ],
   "source": [
    "# Model accuracy\n",
    "correct = 0\n",
    "total = 0\n",
    "pred = np.argmax(model.predict(X_test), axis=1)\n",
    "\n",
    "for i, img in enumerate(pred):\n",
    "  if img == np.argmax(y_test[i]):\n",
    "    correct += 1\n",
    "  total += 1\n",
    "\n",
    "print(correct/total * 100)"
   ]
  },
  {
   "cell_type": "code",
   "execution_count": 10,
   "metadata": {},
   "outputs": [
    {
     "name": "stdout",
     "output_type": "stream",
     "text": [
      "9/9 [==============================] - 13s 1s/step\n",
      "[[40  0  0  0  0  0  0]\n",
      " [ 0 42  4  2  1  3  1]\n",
      " [ 0  2 30  3  2  1  2]\n",
      " [ 1  0  0 41  0  0  0]\n",
      " [ 0  0  0  0 10  0  0]\n",
      " [ 1  2  0  1  1 36  1]\n",
      " [ 0  0  0  1  0  1 30]]\n"
     ]
    }
   ],
   "source": [
    "# Confusion matrix\n",
    "cm = confusion_matrix(np.argmax(model.predict(X_test), axis=1), np.argmax(y_test, axis = 1))\n",
    "print(cm)"
   ]
  },
  {
   "cell_type": "code",
   "execution_count": 11,
   "metadata": {},
   "outputs": [
    {
     "name": "stdout",
     "output_type": "stream",
     "text": [
      "9/9 [==============================] - 12s 1s/step\n",
      "              precision    recall  f1-score   support\n",
      "\n",
      "           0       0.95      1.00      0.98        40\n",
      "           1       0.91      0.79      0.85        53\n",
      "           2       0.88      0.75      0.81        40\n",
      "           3       0.85      0.98      0.91        42\n",
      "           4       0.71      1.00      0.83        10\n",
      "           5       0.88      0.86      0.87        42\n",
      "           6       0.88      0.94      0.91        32\n",
      "\n",
      "    accuracy                           0.88       259\n",
      "   macro avg       0.87      0.90      0.88       259\n",
      "weighted avg       0.89      0.88      0.88       259\n",
      "\n"
     ]
    }
   ],
   "source": [
    "# Classification report\n",
    "cr = classification_report(np.argmax(model.predict(X_test), axis=1), np.argmax(y_test, axis = 1))\n",
    "print(cr)"
   ]
  },
  {
   "cell_type": "code",
   "execution_count": 12,
   "metadata": {},
   "outputs": [
    {
     "data": {
      "image/png": "[encoded data removed]",
      "text/plain": [
       "<Figure size 640x480 with 1 Axes>"
      ]
     },
     "metadata": {},
     "output_type": "display_data"
    }
   ],
   "source": [
    "# Plotting the model losses and accuracies\n",
    "plt.plot(np.arange(0, 11), history.history['val_loss'], label='val_loss')\n",
    "plt.plot(np.arange(0, 11), history.history['loss'], label = 'loss')\n",
    "plt.plot(np.arange(0, 11), history.history['accuracy'], label = 'accuracy')\n",
    "plt.plot(np.arange(0, 11), history.history['val_accuracy'], label = 'val_accuracy')\n",
    "plt.legend()\n",
    "plt.show()"
   ]
  },
  {
   "cell_type": "code",
   "execution_count": 16,
   "metadata": {},
   "outputs": [],
   "source": [
    "# Saving the model\n",
    "model.save(\"maskclassifier.model\", save_format = \"h5\")"
   ]
  }
 ],
 "metadata": {
  "kernelspec": {
   "display_name": "Python 3",
   "language": "python",
   "name": "python3"
  },
  "language_info": {
   "codemirror_mode": {
    "name": "ipython",
    "version": 3
   },
   "file_extension": ".py",
   "mimetype": "text/x-python",
   "name": "python",
   "nbconvert_exporter": "python",
   "pygments_lexer": "ipython3",
   "version": "3.7.9"
  }
 },
 "nbformat": 4,
 "nbformat_minor": 2
}
